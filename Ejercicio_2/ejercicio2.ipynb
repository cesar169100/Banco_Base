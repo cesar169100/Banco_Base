{
 "cells": [
  {
   "cell_type": "code",
   "execution_count": null,
   "metadata": {},
   "outputs": [],
   "source": [
    "import pandas as pd\n",
    "from pandas.tseries.holiday import AbstractHolidayCalendar, Holiday, nearest_workday\n",
    "from pandas.tseries.offsets import DateOffset\n",
    "from dateutil.relativedelta import MO\n",
    "from prophet import Prophet\n",
    "import numpy as np\n",
    "import matplotlib.pyplot as plt\n",
    "from pmdarima import auto_arima\n",
    "import os"
   ]
  },
  {
   "cell_type": "code",
   "execution_count": 2,
   "metadata": {},
   "outputs": [],
   "source": [
    "# Lectura de serie de tiempo\n",
    "os.chdir(\"/home/cesar/Documentos/Banco_Base\")\n",
    "data = pd.read_csv('./Ejercicio_2/datasets/tipo_cambio.csv')\n",
    "data['Fecha'] = pd.to_datetime(data['Fecha'],format=\"%d/%m/%Y\")"
   ]
  },
  {
   "cell_type": "code",
   "execution_count": 3,
   "metadata": {},
   "outputs": [],
   "source": [
    "# Lectura de precio de crudo de petroleo\n",
    "petroleo = pd.read_csv('./Ejercicio_2/datasets/petroleo.csv')\n",
    "petroleo['precio_dolares'] = petroleo['precio_dolares'].replace('N/E', np.nan)\n",
    "petroleo[\"precio_dolares\"] = pd.to_numeric(petroleo[\"precio_dolares\"])\n",
    "petroleo['precio_dolares'] = petroleo['precio_dolares'].interpolate(method='linear')\n",
    "petroleo['Fecha'] = pd.to_datetime(petroleo['Fecha'],format=\"%d/%m/%Y\")\n",
    "# Merge de datos\n",
    "data2 = pd.merge(data, petroleo, on='Fecha', how='left')\n",
    "# Prophet usa columnas 'ds' (fecha) y 'y' (valor)\n",
    "data2.columns = ['ds', 'y', 'precio_petroleo']\n",
    "data2_valido = data2[data2['ds'] <= pd.to_datetime('2024-09-30')]\n",
    "data2_valido = data2_valido[data2_valido['ds'] > pd.to_datetime('2020-01-01')]\n",
    "data2_no_valido= data2[data2['ds'] > pd.to_datetime('2024-09-30')]\n"
   ]
  },
  {
   "cell_type": "code",
   "execution_count": null,
   "metadata": {},
   "outputs": [],
   "source": [
    "### Crear un calendario de días festivos en México\n",
    "class DiasFestivos(AbstractHolidayCalendar):\n",
    "    rules = [\n",
    "        Holiday('Año Nuevo', month=1, day=1),\n",
    "        # Primer lunes de febrero\n",
    "        Holiday('Día de la Constitución', month=2, day=1, offset=DateOffset(weekday=MO(1))),\n",
    "        # Tercer lunes de marzo\n",
    "        Holiday('Natalicio de Benito Juárez', month=3, day=1, offset=DateOffset(weekday=MO(3))),\n",
    "        Holiday('Día del Trabajo', month=5, day=1),\n",
    "        Holiday('Día de la Independencia', month=9, day=16),\n",
    "        # Toma protesta\n",
    "        Holiday('Toma protesta', year=2024, month=10, day=1),\n",
    "        # Tercer lunes de noviembre\n",
    "        Holiday('Día de la Revolución', month=11, day=1, offset=DateOffset(weekday=MO(3))),\n",
    "        Holiday('Navidad', month=12, day=25),\n",
    "    ]\n",
    "\n",
    "# Generar las fechas festivas\n",
    "calendar = DiasFestivos()\n",
    "festivos_mx = calendar.holidays(start='2014-01-02', end='2024-12-31')\n",
    "festivos_mx\n"
   ]
  },
  {
   "cell_type": "code",
   "execution_count": null,
   "metadata": {},
   "outputs": [],
   "source": [
    "###### Ajuste de modelo Prophet\n",
    "# Modelo sin variables externas (BaseModel)\n",
    "model = Prophet(\n",
    "    holidays=pd.DataFrame({'holiday': 'Festivos_MX', 'ds': festivos_mx}),\n",
    "    daily_seasonality=False,\n",
    "    weekly_seasonality=True,  \n",
    "    yearly_seasonality=True \n",
    ")\n",
    "model.fit(data2_valido.drop(['precio_petroleo'], axis=1))\n",
    "\n",
    "# Modelo con variables externas\n",
    "model2 = Prophet(\n",
    "    holidays=pd.DataFrame({'holiday': 'Festivos_MX', 'ds': festivos_mx}),\n",
    "    daily_seasonality=False,\n",
    "    weekly_seasonality=True,  \n",
    "    yearly_seasonality=True \n",
    ")\n",
    "model2.add_regressor('precio_petroleo')\n",
    "model2.fit(data2_valido)"
   ]
  },
  {
   "cell_type": "code",
   "execution_count": null,
   "metadata": {},
   "outputs": [],
   "source": [
    "### Generar el pronóstico y MAPE para model 1\n",
    "# Dataframe de pronostico\n",
    "future = model.make_future_dataframe(periods=58)  # Pronosticar hasta 2024-11-27\n",
    "future = future[~future['ds'].dt.weekday.isin([5, 6])]  # Excluir fines de semana\n",
    "future = future[~future['ds'].isin(festivos_mx)]       # Excluir días festivos\n",
    "# Pronostico\n",
    "forecast = model.predict(future)\n",
    "df_forecast = forecast[['ds', 'yhat', 'yhat_lower', 'yhat_upper']]\n",
    "df_test = df_forecast.tail(40)\n",
    "# Calculo del mape\n",
    "pe = abs(np.array(df_test['yhat']) - np.array(data2_no_valido['y'])) / np.array(data2_no_valido['y'])\n",
    "mape = np.mean(pe)\n",
    "print(mape)\n",
    "print(df_test)\n"
   ]
  },
  {
   "cell_type": "code",
   "execution_count": null,
   "metadata": {},
   "outputs": [],
   "source": [
    "### Generar el pronóstico y MAPE para model 2\n",
    "# Dataframe de pronostico\n",
    "future2 = model2.make_future_dataframe(periods=58)  # Pronosticar hasta 2024-11-27\n",
    "future2 = future2[~future2['ds'].dt.weekday.isin([5, 6])]  # Excluir fines de semana\n",
    "future2 = future2[~future2['ds'].isin(festivos_mx)]       # Excluir días festivos\n",
    "future2 = pd.merge(future2, data2[['ds','precio_petroleo']], on='ds', how='left')\n",
    "\n",
    "# Pronostico\n",
    "forecast2 = model2.predict(future2)\n",
    "df_forecast2 = forecast2[['ds', 'yhat', 'yhat_lower', 'yhat_upper']]\n",
    "df_test2 = df_forecast2.tail(40)\n",
    "# Calculo del mape\n",
    "pe = abs(np.array(df_test2['yhat']) - np.array(data2_no_valido['y'])) / np.array(data2_no_valido['y'])\n",
    "mape2 = np.mean(pe)\n",
    "print(mape2)\n",
    "print(df_test2)"
   ]
  },
  {
   "cell_type": "code",
   "execution_count": null,
   "metadata": {},
   "outputs": [],
   "source": [
    "## Plot model 1\n",
    "fig = model.plot(forecast)\n",
    "# Agregar una línea vertical para marcar el inicio del horizonte de pronóstico\n",
    "horizon_start = future['ds'].iloc[len(data2_valido)]  # Primera fecha del horizonte de pronóstico\n",
    "plt.axvline(x=horizon_start, color='red', linestyle='--', label='Inicio de pronóstico')\n",
    "ultimo_anio = data2_valido['ds'].max() - pd.DateOffset(years=1)\n",
    "plt.xlim(ultimo_anio, forecast['ds'].max())  # Limitar el eje X\n",
    "\n",
    "# Agregar una leyenda\n",
    "plt.legend()\n",
    "# plt.savefig('./Ejercicio_2/figures/model_1_zoom.png')\n",
    "# Mostrar el gráfico\n",
    "plt.show()"
   ]
  },
  {
   "cell_type": "code",
   "execution_count": null,
   "metadata": {},
   "outputs": [],
   "source": [
    "## Plot model 2\n",
    "fig = model2.plot(forecast2)\n",
    "# Agregar una línea vertical para marcar el inicio del horizonte de pronóstico\n",
    "horizon_start = future2['ds'].iloc[len(data2_valido)]  # Primera fecha del horizonte de pronóstico\n",
    "plt.axvline(x=horizon_start, color='red', linestyle='--', label='Inicio de pronóstico')\n",
    "ultimo_anio = data2_valido['ds'].max() - pd.DateOffset(years=1)\n",
    "plt.xlim(ultimo_anio, forecast2['ds'].max())  # Limitar el eje X\n",
    "\n",
    "# Agregar una leyenda\n",
    "plt.legend()\n",
    "# plt.savefig('./Ejercicio_2/figures/model_2_zoom.png')\n",
    "# Mostrar el gráfico\n",
    "plt.show()"
   ]
  }
 ],
 "metadata": {
  "kernelspec": {
   "display_name": "venv",
   "language": "python",
   "name": "python3"
  },
  "language_info": {
   "codemirror_mode": {
    "name": "ipython",
    "version": 3
   },
   "file_extension": ".py",
   "mimetype": "text/x-python",
   "name": "python",
   "nbconvert_exporter": "python",
   "pygments_lexer": "ipython3",
   "version": "3.8.10"
  }
 },
 "nbformat": 4,
 "nbformat_minor": 2
}
