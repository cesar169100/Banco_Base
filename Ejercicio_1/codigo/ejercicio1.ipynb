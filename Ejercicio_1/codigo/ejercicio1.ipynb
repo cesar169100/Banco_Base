{
 "cells": [
  {
   "cell_type": "code",
   "execution_count": 58,
   "metadata": {},
   "outputs": [],
   "source": [
    "# Importar paqueteria necesaria\n",
    "import pandas as pd\n",
    "import matplotlib.pyplot as plt\n",
    "import seaborn as sns\n",
    "import numpy as np\n",
    "from sklearn.cluster import KMeans, DBSCAN\n",
    "from sklearn.preprocessing import StandardScaler\n",
    "from sklearn.metrics import silhouette_score\n",
    "from sklearn.neighbors import NearestNeighbors\n",
    "import os"
   ]
  },
  {
   "cell_type": "code",
   "execution_count": null,
   "metadata": {},
   "outputs": [],
   "source": [
    "# Especificar ruta al repo clonado\n",
    "os.chdir(\"/home/cesar/Documentos/Banco_Base\")\n",
    "\n",
    "# Lectura de la informacion\n",
    "data_agosto = pd.read_csv('./Ejercicio_1/datasets/2024-08.csv')\n",
    "data_sept = pd.read_csv('./Ejercicio_1/datasets/2024-09.csv')\n",
    "data_oct = pd.read_csv('./Ejercicio_1/datasets/2024-10.csv')\n",
    "\n",
    "data = pd.concat([data_agosto, data_sept, data_oct],ignore_index=True)\n",
    "data.head(10)\n",
    " "
   ]
  },
  {
   "cell_type": "code",
   "execution_count": null,
   "metadata": {},
   "outputs": [],
   "source": [
    "# Porcentaje de faltantes por columna\n",
    "data['Genero_Usuario'] = data['Genero_Usuario'].replace('?', np.nan)\n",
    "data.isna().mean() * 100\n"
   ]
  },
  {
   "cell_type": "code",
   "execution_count": null,
   "metadata": {},
   "outputs": [],
   "source": [
    "################## Inciso 1: Analisis exploratorio\n",
    "# Numero de estaciones\n",
    "print(pd.concat([data['Ciclo_Estacion_Retiro'], data['Ciclo_EstacionArribo']]).nunique())\n",
    "# Histograma del genero de usuarios\n",
    "frecuencias = data['Genero_Usuario'].value_counts(normalize=True).reset_index()\n",
    "frecuencias.columns = ['Genero_Usuario', 'frecuencia']\n",
    "plt.figure(figsize=(8, 6))\n",
    "sns.barplot(x='Genero_Usuario', y='frecuencia', data=frecuencias, palette='pastel', edgecolor='black')\n",
    "plt.title('Usuarios por genero')\n",
    "plt.xlabel('Genero')\n",
    "plt.ylabel('Frecuencia')\n",
    "plt.ylim(0, 1)\n",
    "plt.savefig('./Ejercicio_1/figures/genero_usuarios.png')\n",
    "plt.show()"
   ]
  },
  {
   "cell_type": "code",
   "execution_count": null,
   "metadata": {},
   "outputs": [],
   "source": [
    "# Cantidad de bicicletas usadas\n",
    "print(data['Bici'].nunique())\n",
    "# Cantidad de viajes por edad\n",
    "plt.figure(figsize=(8, 6))\n",
    "sns.histplot(data['Edad_Usuario'], bins=10, kde=True, color='blue')\n",
    "plt.title('Edades')\n",
    "plt.xlabel('Rangos de edad')\n",
    "plt.ylabel('Cantidad de viajes')\n",
    "plt.savefig('./Ejercicio_1/figures/edad_usuarios.png')\n",
    "plt.show()\n",
    "# Edad promedio por genero\n",
    "print(data.groupby(['Genero_Usuario']).agg('Edad_Usuario').mean())"
   ]
  },
  {
   "cell_type": "code",
   "execution_count": null,
   "metadata": {},
   "outputs": [],
   "source": [
    "# Calculo de duracion de viajes en minutos\n",
    "data['Hora_Retiro'] = pd.to_datetime(data['Hora_Retiro'], format='%H:%M:%S')\n",
    "data['Hora_Arribo'] = pd.to_datetime(data['Hora_Arribo'], format='%H:%M:%S')\n",
    "data['duracion_viaje'] = (\n",
    "    (data['Hora_Arribo'] - data['Hora_Retiro'])\n",
    "    .dt.total_seconds()\n",
    "    .div(60)    # Tiempo en minutos\n",
    "    .mod(1440)  # Manejar diferencias de días\n",
    ")\n",
    "data[['Hora_Retiro','Hora_Arribo','duracion_viaje']].head(10)\n"
   ]
  },
  {
   "cell_type": "code",
   "execution_count": null,
   "metadata": {},
   "outputs": [],
   "source": [
    "# Histograma de duraciones\n",
    "plt.figure()\n",
    "figsize=(8, 6)\n",
    "sns.histplot(data['duracion_viaje'], kde=False, color='blue')\n",
    "plt.title('Duracion en minutos')\n",
    "plt.xlabel('Rangos de duracion')\n",
    "plt.ylabel('Cantidad de viajes')\n",
    "plt.xlim(0,100)\n",
    "plt.savefig('./Ejercicio_1/figures/duracion_viajes.png')\n",
    "plt.show()"
   ]
  },
  {
   "cell_type": "code",
   "execution_count": 5,
   "metadata": {},
   "outputs": [],
   "source": [
    "############################## Inciso 2: Afluencia y outliers\n",
    "## Ruta origen-destino\n",
    "data['viaje_inicio_destino'] = data[\"Ciclo_Estacion_Retiro\"] + '/' + data[\"Ciclo_EstacionArribo\"]\n",
    "# Conteo de viajes en intervalos de 30min\n",
    "data['intervalo'] = data['Hora_Retiro'].dt.floor('30min')  # Redondear a la hora más cercana\n",
    "afluencia = data['intervalo'].value_counts().sort_index()"
   ]
  },
  {
   "cell_type": "code",
   "execution_count": null,
   "metadata": {},
   "outputs": [],
   "source": [
    "## Horarios de mayor afluencia\n",
    "figsize=(8, 6)\n",
    "sns.barplot(x=afluencia.index.strftime('%H:%M'), y=afluencia.values, palette='pastel', edgecolor='black')\n",
    "plt.xlabel('Hora de Inicio')\n",
    "plt.ylabel('Cantidad de Viajes')\n",
    "plt.title('Afluencia de Viajes por Intervalo de Tiempo')\n",
    "plt.xticks(rotation=90)  # Rotar etiquetas si es necesario\n",
    "plt.savefig('./Ejercicio_1/figures/horarios_afluencia.png')\n",
    "plt.show()"
   ]
  },
  {
   "cell_type": "code",
   "execution_count": null,
   "metadata": {},
   "outputs": [],
   "source": [
    "# Afluencia por estacion de retiro\n",
    "estacion = data.groupby(['Ciclo_Estacion_Retiro'])['Ciclo_Estacion_Retiro'].count().reset_index(name='conteo')\n",
    "estacion = estacion.sort_values(by='conteo', ascending=False)\n",
    "# Estaciones de afluencia atipica\n",
    "estacion_q1 = estacion['conteo'].quantile(0.25)\n",
    "estacion_q3 = estacion['conteo'].quantile(0.75)\n",
    "iqr = estacion_q3 - estacion_q1\n",
    "limite_inferior = estacion_q1 - 1.5 * iqr\n",
    "limite_superior = estacion_q3 + 1.5 * iqr\n",
    "# Identificar outliers\n",
    "estacion[(estacion['conteo'] < limite_inferior) | (estacion['conteo'] > limite_superior)]\n",
    "\n"
   ]
  },
  {
   "cell_type": "code",
   "execution_count": null,
   "metadata": {},
   "outputs": [],
   "source": [
    "# Afluencia por estacion de arribo\n",
    "estacion_a = data.groupby(['Ciclo_EstacionArribo'])['Ciclo_EstacionArribo'].count().reset_index(name='conteo')\n",
    "estacion_a = estacion_a.sort_values(by='conteo', ascending=False)\n",
    "# Estaciones de afluencia atipica\n",
    "estacion_q1 = estacion_a['conteo'].quantile(0.25)\n",
    "estacion_q3 = estacion_a['conteo'].quantile(0.75)\n",
    "iqr = estacion_q3 - estacion_q1\n",
    "limite_inferior = estacion_q1 - 1.5 * iqr\n",
    "limite_superior = estacion_q3 + 1.5 * iqr\n",
    "# Identificar outliers\n",
    "estacion_a[(estacion_a['conteo'] < limite_inferior) | (estacion_a['conteo'] > limite_superior)]\n"
   ]
  },
  {
   "cell_type": "code",
   "execution_count": null,
   "metadata": {},
   "outputs": [],
   "source": [
    "# Afluencia por estacion de retiro y horario \n",
    "estacion_horario = data.groupby(['Ciclo_Estacion_Retiro','intervalo'])['Ciclo_Estacion_Retiro'].count().reset_index(name='conteo')\n",
    "estacion_horario = estacion_horario.sort_values(by='conteo', ascending=False)\n",
    "estacion_horario.head(30)\n",
    "# ['271-272','266-267','273-274','264-275','237-238','268-269','158-159']"
   ]
  },
  {
   "cell_type": "code",
   "execution_count": null,
   "metadata": {},
   "outputs": [],
   "source": [
    "## Afluencia por ruta\n",
    "afluencia_ruta = data.groupby(['viaje_inicio_destino'])['viaje_inicio_destino'].count().reset_index(name='conteo')\n",
    "afluencia_ruta = afluencia_ruta.sort_values(by='conteo', ascending=False)\n",
    "# Rutas de afluencia atipica\n",
    "ruta_q1 = afluencia_ruta['conteo'].quantile(0.25)\n",
    "ruta_q3 = afluencia_ruta['conteo'].quantile(0.75)\n",
    "iqr = ruta_q3 - ruta_q1\n",
    "limite_inferior = ruta_q1 - 1.5 * iqr\n",
    "limite_superior = ruta_q3 + 1.5 * iqr\n",
    "# Identificar outliers\n",
    "afluencia_ruta[(afluencia_ruta['conteo'] < limite_inferior) | (afluencia_ruta['conteo'] > limite_superior)]\n"
   ]
  },
  {
   "cell_type": "code",
   "execution_count": 30,
   "metadata": {},
   "outputs": [],
   "source": [
    "# Algunas metricas por estacion\n",
    "edad = data.groupby(['Ciclo_Estacion_Retiro'])['Edad_Usuario'].median().reset_index(name='edad')\n",
    "edad.columns = ['estacion', 'edad']\n",
    "duracion = data.groupby(['Ciclo_Estacion_Retiro'])['duracion_viaje'].median().reset_index(name='duracion')\n",
    "duracion.columns = ['estacion','duracion']\n",
    "data['retiro_05-10'] = data['Hora_Retiro'].dt.time.between(pd.to_datetime('05:00:00').time(), pd.to_datetime('10:00:00').time())\n",
    "data['retiro_10-15'] = data['Hora_Retiro'].dt.time.between(pd.to_datetime('10:00:01').time(), pd.to_datetime('15:00:00').time())\n",
    "data['retiro_15-20'] = data['Hora_Retiro'].dt.time.between(pd.to_datetime('15:00:01').time(), pd.to_datetime('20:00:00').time())\n",
    "data['retiro_20-01'] = (\n",
    "    (data['Hora_Retiro'].dt.time >= pd.to_datetime('20:00:01').time()) |\n",
    "    (data['Hora_Retiro'].dt.time <= pd.to_datetime('01:00:00').time())\n",
    ")\n",
    "data['arribo_01-05'] = data['Hora_Arribo'].dt.time.between(pd.to_datetime('01:00:01').time(), pd.to_datetime('04:59:59').time())\n",
    "data['arribo_05-10'] = data['Hora_Arribo'].dt.time.between(pd.to_datetime('05:00:00').time(), pd.to_datetime('10:00:00').time())\n",
    "data['arribo_10-15'] = data['Hora_Arribo'].dt.time.between(pd.to_datetime('10:00:01').time(), pd.to_datetime('15:00:00').time())\n",
    "data['arribo_15-20'] = data['Hora_Arribo'].dt.time.between(pd.to_datetime('15:00:01').time(), pd.to_datetime('20:00:00').time())\n",
    "data['arribo_20-01'] = (\n",
    "    (data['Hora_Arribo'].dt.time >= pd.to_datetime('20:00:01').time()) |\n",
    "    (data['Hora_Arribo'].dt.time <= pd.to_datetime('01:00:00').time())\n",
    ")\n",
    "intervalos_retiro = ['retiro_05-10','retiro_10-15','retiro_15-20','retiro_20-01']\n",
    "intervalos_arribo = ['arribo_05-10','arribo_10-15','arribo_15-20','arribo_20-01','arribo_01-05']\n",
    "retiros = data.groupby(['Ciclo_Estacion_Retiro'])[intervalos_retiro].sum().reset_index()\n",
    "retiros.rename(columns={retiros.columns[0]: 'estacion'}, inplace=True)\n",
    "arribos = data.groupby(['Ciclo_EstacionArribo'])[intervalos_arribo].sum().reset_index()\n",
    "arribos.rename(columns={arribos.columns[0]: 'estacion'}, inplace=True)"
   ]
  },
  {
   "cell_type": "code",
   "execution_count": null,
   "metadata": {},
   "outputs": [],
   "source": [
    "#################### Inciso 3: Perfiles de uso\n",
    "estaciones = pd.merge(estacion_a, estacion, left_on='Ciclo_EstacionArribo', right_on='Ciclo_Estacion_Retiro', how='left')\n",
    "estaciones = estaciones[estaciones['Ciclo_EstacionArribo'] != 'tag 2']\n",
    "estaciones = estaciones.drop(['Ciclo_Estacion_Retiro'], axis=1)\n",
    "estaciones.columns = ['estacion','arribos_totales','retiros_totales']\n",
    "\n",
    "estaciones = pd.merge(estaciones, edad, on='estacion', how='left')\n",
    "estaciones = pd.merge(estaciones, duracion, on='estacion', how='left')\n",
    "estaciones = pd.merge(estaciones, retiros, on='estacion', how='left')\n",
    "estaciones = pd.merge(estaciones, arribos, on='estacion', how='left')\n",
    "estaciones = estaciones.drop(['arribos_totales','retiros_totales'], axis=1)\n",
    "estaciones"
   ]
  },
  {
   "cell_type": "code",
   "execution_count": 91,
   "metadata": {},
   "outputs": [],
   "source": [
    "#### Formar clusters\n",
    "# Separar la estacion\n",
    "estacion_id = estaciones['estacion']\n",
    "estacion_numericos = estaciones.drop(columns=['estacion'])\n",
    "# Estandarizar los datos\n",
    "scaler = StandardScaler()\n",
    "estaciones_scaled = scaler.fit_transform(estacion_numericos)"
   ]
  },
  {
   "cell_type": "code",
   "execution_count": null,
   "metadata": {},
   "outputs": [],
   "source": [
    "# Funcion para determinar numero de clusters\n",
    "def analisis_k(data, max_k=10):\n",
    "    distortions = []\n",
    "    silhouette_scores = []\n",
    "\n",
    "    for k in range(2, max_k + 1):\n",
    "        kmeans = KMeans(n_clusters=k, random_state=42)\n",
    "        kmeans.fit(data)\n",
    "        distortions.append(kmeans.inertia_)\n",
    "        silhouette_scores.append(silhouette_score(data, kmeans.labels_))\n",
    "\n",
    "    # Gráfico del método del codo\n",
    "    plt.figure(figsize=(10, 4))\n",
    "    plt.subplot(1, 2, 1)\n",
    "    plt.plot(range(2, max_k + 1), distortions, marker='o')\n",
    "    plt.title('Método del codo')\n",
    "    plt.xlabel('Número de clusters (k)')\n",
    "    plt.ylabel('Distorsión')\n",
    "\n",
    "    # Gráfico de la puntuación Silhouette\n",
    "    plt.subplot(1, 2, 2)\n",
    "    plt.plot(range(2, max_k + 1), silhouette_scores, marker='o')\n",
    "    plt.title('Puntuación Silhouette')\n",
    "    plt.xlabel('Número de clusters (k)')\n",
    "    plt.ylabel('Silhouette')\n",
    "\n",
    "    plt.tight_layout()\n",
    "    # plt.savefig('./Ejercicio_1/figures/codo_silhouette.png')\n",
    "    plt.show()\n",
    "\n",
    "    return distortions, silhouette_scores\n",
    "\n",
    "distortions, silhouette_scores = analisis_k(estaciones_scaled)"
   ]
  },
  {
   "cell_type": "code",
   "execution_count": null,
   "metadata": {},
   "outputs": [],
   "source": [
    "# Implementar K-Means con el número óptimo de clusters\n",
    "kmeans_model = KMeans(n_clusters=4, random_state=42)\n",
    "kmeans_labels = kmeans_model.fit_predict(estaciones_scaled)\n",
    "estaciones['kmeans_labels'] = kmeans_labels\n",
    "estaciones"
   ]
  },
  {
   "cell_type": "code",
   "execution_count": null,
   "metadata": {},
   "outputs": [],
   "source": [
    "# Implementar DBSCAN\n",
    "dbscan = DBSCAN(eps=0.5, min_samples=5, n_jobs=-1)  \n",
    "dbscan_labels = dbscan.fit_predict(estaciones_scaled)\n",
    "# Asignar etiquetas dbscan\n",
    "estaciones['dbsan_labels'] = dbscan_labels\n",
    "estaciones\n"
   ]
  },
  {
   "cell_type": "code",
   "execution_count": null,
   "metadata": {},
   "outputs": [],
   "source": [
    "# Kmeans summary\n",
    "estaciones_temp_kmeans = estaciones.drop(['estacion','dbsan_labels'], axis=1)\n",
    "kmeans_summary = estaciones_temp_kmeans.groupby('kmeans_labels').agg(['mean']).reset_index()\n",
    "kmeans_count = estaciones_temp_kmeans.groupby('kmeans_labels')['kmeans_labels'].count().reset_index(name='conteo')\n",
    "print(kmeans_summary)\n",
    "print(kmeans_count)"
   ]
  },
  {
   "cell_type": "code",
   "execution_count": null,
   "metadata": {},
   "outputs": [],
   "source": [
    "# dbscan summary\n",
    "estaciones_temp_dbscan = estaciones.drop(['estacion','kmeans_labels'], axis=1)\n",
    "db_summary = estaciones_temp_dbscan.groupby('dbsan_labels').agg(['mean']).reset_index()\n",
    "db_count = estaciones_temp_dbscan.groupby('dbsan_labels')['dbsan_labels'].count().reset_index(name='conteo')\n",
    "\n",
    "print(db_count.head(10))\n",
    "print(db_summary)"
   ]
  }
 ],
 "metadata": {
  "kernelspec": {
   "display_name": "venv",
   "language": "python",
   "name": "python3"
  },
  "language_info": {
   "codemirror_mode": {
    "name": "ipython",
    "version": 3
   },
   "file_extension": ".py",
   "mimetype": "text/x-python",
   "name": "python",
   "nbconvert_exporter": "python",
   "pygments_lexer": "ipython3",
   "version": "3.8.10"
  }
 },
 "nbformat": 4,
 "nbformat_minor": 2
}
